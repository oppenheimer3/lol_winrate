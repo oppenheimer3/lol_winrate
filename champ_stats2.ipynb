{
 "cells": [
  {
   "cell_type": "code",
   "execution_count": 88,
   "metadata": {},
   "outputs": [],
   "source": [
    "import pandas as pd \n",
    "import numpy as np"
   ]
  },
  {
   "cell_type": "code",
   "execution_count": 105,
   "metadata": {},
   "outputs": [],
   "source": [
    "from bs4 import BeautifulSoup\n",
    "import requests\n",
    "\n",
    "url='https://www.metasrc.com/5v5/stats'\n",
    "\n",
    "page=requests.get(url)\n",
    "col_index=[]\n",
    "page_html=BeautifulSoup(page .content,'html.parser')\n",
    "head=page_html.find('tr')\n",
    "for col in head:\n",
    "    col_index.append(col.string)\n",
    "\n",
    "table=page_html.find('tbody')\n",
    "champions=[]\n",
    "data=[]\n",
    "      \n",
    "rows=table.find_all('tr')\n",
    "for row in rows:\n",
    "    champions.append(row.find('span').string)\n",
    "    champs=row.find_all('td')\n",
    "    for champ in champs:\n",
    "        data.append(champ.string)\n",
    "champions_data=np.array_split(data,len(data)/10)       \n",
    "df = pd.DataFrame(np.vstack(champions_data))\n",
    "df.columns=col_index\n",
    "df['Name']=champions\n",
    "df.to_csv('champ_stats2.csv')\n",
    "\n",
    "    \n",
    "        \n",
    "\n",
    "\n"
   ]
  }
 ],
 "metadata": {
  "kernelspec": {
   "display_name": "Python 3.9.12 ('base')",
   "language": "python",
   "name": "python3"
  },
  "language_info": {
   "codemirror_mode": {
    "name": "ipython",
    "version": 3
   },
   "file_extension": ".py",
   "mimetype": "text/x-python",
   "name": "python",
   "nbconvert_exporter": "python",
   "pygments_lexer": "ipython3",
   "version": "3.9.12"
  },
  "orig_nbformat": 4,
  "vscode": {
   "interpreter": {
    "hash": "1cca9558bc5ad879ec93cc030b157d75f18267527c60932cecaace349eef54dd"
   }
  }
 },
 "nbformat": 4,
 "nbformat_minor": 2
}
