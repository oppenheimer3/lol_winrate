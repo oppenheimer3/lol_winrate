{
 "cells": [
  {
   "cell_type": "code",
   "execution_count": 3,
   "metadata": {},
   "outputs": [],
   "source": [
    "import pandas as pd \n",
    "import numpy as np"
   ]
  },
  {
   "cell_type": "code",
   "execution_count": 4,
   "metadata": {},
   "outputs": [],
   "source": [
    "from bs4 import BeautifulSoup\n",
    "import requests\n",
    "\n",
    "url='https://leagueoflegends.fandom.com/wiki/List_of_champions/Base_statistics'\n",
    "\n",
    "page=requests.get(url)\n",
    "\n",
    "page_html=BeautifulSoup(page .content,'html.parser')\n",
    "head=[]\n",
    "table_head=page_html.find_all('th')\n",
    "\n",
    "for col in table_head:\n",
    "    \n",
    "    head.append(col.get_text(separator=\"\").strip())\n",
    "head=head[0:19]\n",
    "\n",
    "\n",
    "table=page_html.find('tbody')\n",
    "champions=[]\n",
    "rows=table.find_all('tr')\n",
    "for row in rows:\n",
    "    champs=row.find_all('td')\n",
    "    for champ in champs:  \n",
    "        champions.append(champ.get_text(separator=\"\").strip())\n",
    "\n",
    "champions_data=np.array_split(champions,len(champions)/19) \n",
    "df = pd.DataFrame(np.vstack(champions_data))\n",
    "df.columns=head\n",
    "\n",
    "\n",
    "\n",
    "df.to_csv('champs_stat.csv')\n"
   ]
  }
 ],
 "metadata": {
  "kernelspec": {
   "display_name": "Python 3.9.12 ('base')",
   "language": "python",
   "name": "python3"
  },
  "language_info": {
   "codemirror_mode": {
    "name": "ipython",
    "version": 3
   },
   "file_extension": ".py",
   "mimetype": "text/x-python",
   "name": "python",
   "nbconvert_exporter": "python",
   "pygments_lexer": "ipython3",
   "version": "3.9.12"
  },
  "orig_nbformat": 4,
  "vscode": {
   "interpreter": {
    "hash": "1cca9558bc5ad879ec93cc030b157d75f18267527c60932cecaace349eef54dd"
   }
  }
 },
 "nbformat": 4,
 "nbformat_minor": 2
}
